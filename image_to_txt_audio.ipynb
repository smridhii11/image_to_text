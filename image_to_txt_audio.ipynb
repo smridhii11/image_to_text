{
  "nbformat": 4,
  "nbformat_minor": 0,
  "metadata": {
    "colab": {
      "provenance": [],
      "authorship_tag": "ABX9TyN2mHImd/9L/xHnbDBjZ7z6",
      "include_colab_link": true
    },
    "kernelspec": {
      "name": "python3",
      "display_name": "Python 3"
    },
    "language_info": {
      "name": "python"
    }
  },
  "cells": [
    {
      "cell_type": "markdown",
      "metadata": {
        "id": "view-in-github",
        "colab_type": "text"
      },
      "source": [
        "<a href=\"https://colab.research.google.com/github/smridhii11/image_to_text/blob/main/image_to_txt_audio.ipynb\" target=\"_parent\"><img src=\"https://colab.research.google.com/assets/colab-badge.svg\" alt=\"Open In Colab\"/></a>"
      ]
    },
    {
      "cell_type": "code",
      "execution_count": 20,
      "metadata": {
        "colab": {
          "base_uri": "https://localhost:8080/"
        },
        "id": "S9QjttYP2TgH",
        "outputId": "a122f412-ba42-4a27-c81c-a0ecc38a592e"
      },
      "outputs": [
        {
          "output_type": "stream",
          "name": "stdout",
          "text": [
            "Reading package lists... Done\n",
            "Building dependency tree... Done\n",
            "Reading state information... Done\n",
            "tesseract-ocr is already the newest version (4.1.1-2.1build1).\n",
            "0 upgraded, 0 newly installed, 0 to remove and 35 not upgraded.\n",
            "Requirement already satisfied: pytesseract in /usr/local/lib/python3.12/dist-packages (0.3.13)\n",
            "Requirement already satisfied: packaging>=21.3 in /usr/local/lib/python3.12/dist-packages (from pytesseract) (25.0)\n",
            "Requirement already satisfied: Pillow>=8.0.0 in /usr/local/lib/python3.12/dist-packages (from pytesseract) (9.0.0)\n",
            "Requirement already satisfied: gTTS in /usr/local/lib/python3.12/dist-packages (2.5.4)\n",
            "Requirement already satisfied: requests<3,>=2.27 in /usr/local/lib/python3.12/dist-packages (from gTTS) (2.32.4)\n",
            "Requirement already satisfied: click<8.2,>=7.1 in /usr/local/lib/python3.12/dist-packages (from gTTS) (8.1.8)\n",
            "Requirement already satisfied: charset_normalizer<4,>=2 in /usr/local/lib/python3.12/dist-packages (from requests<3,>=2.27->gTTS) (3.4.3)\n",
            "Requirement already satisfied: idna<4,>=2.5 in /usr/local/lib/python3.12/dist-packages (from requests<3,>=2.27->gTTS) (3.10)\n",
            "Requirement already satisfied: urllib3<3,>=1.21.1 in /usr/local/lib/python3.12/dist-packages (from requests<3,>=2.27->gTTS) (2.5.0)\n",
            "Requirement already satisfied: certifi>=2017.4.17 in /usr/local/lib/python3.12/dist-packages (from requests<3,>=2.27->gTTS) (2025.8.3)\n",
            "Requirement already satisfied: Pillow==9.0.0 in /usr/local/lib/python3.12/dist-packages (9.0.0)\n"
          ]
        }
      ],
      "source": [
        "!sudo apt install tesseract-ocr\n",
        "!pip install pytesseract\n",
        "!pip install gTTS\n",
        "!pip install Pillow==9.0.0"
      ]
    },
    {
      "cell_type": "code",
      "source": [
        "import pytesseract\n",
        "from PIL import Image\n",
        "import gtts"
      ],
      "metadata": {
        "id": "W9h8qavP2wV5"
      },
      "execution_count": 21,
      "outputs": []
    },
    {
      "cell_type": "code",
      "source": [
        "img = Image.open('you.png')\n",
        "print(img)"
      ],
      "metadata": {
        "colab": {
          "base_uri": "https://localhost:8080/"
        },
        "id": "Rl3s8Wsv2wLd",
        "outputId": "2434a90a-a5a6-41a1-f1ff-a2db2e40734c"
      },
      "execution_count": 22,
      "outputs": [
        {
          "output_type": "stream",
          "name": "stdout",
          "text": [
            "<PIL.JpegImagePlugin.JpegImageFile image mode=RGB size=1300x957 at 0x7E1DAEB8E240>\n"
          ]
        }
      ]
    },
    {
      "cell_type": "code",
      "source": [
        "result = pytesseract.image_to_string(img)\n",
        "print(result)\n",
        "tts = gtts.gTTS(result)\n",
        "tts.save(\"hello.mp3\")\n",
        "from IPython.display import Audio\n",
        "\n",
        "Audio(\"hello.mp3\")\n"
      ],
      "metadata": {
        "colab": {
          "base_uri": "https://localhost:8080/",
          "height": 145
        },
        "id": "ye0ftYKI2v5J",
        "outputId": "bcd3f836-185f-4104-bbba-0a365a71b86a"
      },
      "execution_count": 23,
      "outputs": [
        {
          "output_type": "stream",
          "name": "stdout",
          "text": [
            "JUST, BE YOU\n",
            "\n",
            "    \n",
            "\f\n"
          ]
        },
        {
          "output_type": "execute_result",
          "data": {
            "text/plain": [
              "<IPython.lib.display.Audio object>"
            ],
            "text/html": [
              "\n",
              "                <audio  controls=\"controls\" >\n",
              "                    <source src=\"data:audio/mpeg;base64,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\" type=\"audio/mpeg\" />\n",
              "                    Your browser does not support the audio element.\n",
              "                </audio>\n",
              "              "
            ]
          },
          "metadata": {},
          "execution_count": 23
        }
      ]
    }
  ]
}